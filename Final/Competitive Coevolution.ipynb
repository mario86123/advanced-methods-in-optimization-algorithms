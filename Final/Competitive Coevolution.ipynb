{
 "cells": [
  {
   "cell_type": "code",
   "execution_count": 1,
   "metadata": {},
   "outputs": [],
   "source": [
    "import numpy as np\n",
    "import pandas as pd\n",
    "from operator import attrgetter\n",
    "from sklearn.linear_model import LogisticRegression\n",
    "import random"
   ]
  },
  {
   "cell_type": "code",
   "execution_count": 2,
   "metadata": {},
   "outputs": [],
   "source": [
    "Data = pd.read_excel('./Midterm_Data/Data.xlsx') # training data\n",
    "Test1 = pd.read_excel('./Midterm_Data/Test1.xlsx') # validation data\n",
    "Test2 = pd.read_excel('./Midterm_Data/Test2.xlsx') # testing data\n",
    "\n",
    "Data.fillna(Data.mean(), inplace=True)\n",
    "# Data # training data"
   ]
  },
  {
   "cell_type": "markdown",
   "metadata": {},
   "source": [
    "# data preprocessing"
   ]
  },
  {
   "cell_type": "markdown",
   "metadata": {},
   "source": [
    "- 1 way ratio: 0 ~ 94 (xi)\n",
    "- 2 way ratio: 95 ~ 4559 (xi * xj)"
   ]
  },
  {
   "cell_type": "code",
   "execution_count": 3,
   "metadata": {},
   "outputs": [],
   "source": [
    "def data_preprocessing(data):\n",
    "    \n",
    "    # Data_bio_ratio\n",
    "    x = pd.DataFrame(index=range(data.shape[0]),columns=range(95))\n",
    "    for i in range(19):\n",
    "        for j in range(5):\n",
    "            if i < 9:\n",
    "                x[i * 5 + j] = data[f'F0{i+1}'] / data[f'R0{j+1}']\n",
    "            else:\n",
    "                x[i * 5 + j] = data[f'F{i+1}'] / data[f'R0{j+1}']\n",
    "\n",
    "    one_way = x.to_numpy()\n",
    "    two_way = np.zeros((data.shape[0], 95 * 94 // 2))\n",
    "    count = 0\n",
    "    for i in range(one_way.shape[1]):\n",
    "        for j in range(i+1, one_way.shape[1]):\n",
    "            two_way[:, count] = one_way[:, i] * one_way[:, j]\n",
    "            count += 1\n",
    "    \n",
    "    return np.hstack((one_way, two_way)), data[['C01','C02','C03','C04','C05']].to_numpy().T"
   ]
  },
  {
   "cell_type": "code",
   "execution_count": 4,
   "metadata": {},
   "outputs": [
    {
     "name": "stdout",
     "output_type": "stream",
     "text": [
      "x_train.shape:  (4240, 4560)\n",
      "y_train.shape:  (5, 4240)\n",
      "x_val.shape:  (475, 4560)\n",
      "y_val.shape:  (5, 475)\n",
      "x_test.shape:  (987, 4560)\n",
      "y_test.shape:  (5, 987)\n"
     ]
    }
   ],
   "source": [
    "x_train, y_train = data_preprocessing(Data)\n",
    "print(\"x_train.shape: \", x_train.shape)\n",
    "print(\"y_train.shape: \", y_train.shape)\n",
    "\n",
    "x_val, y_val = data_preprocessing(Test1)\n",
    "print(\"x_val.shape: \", x_val.shape)\n",
    "print(\"y_val.shape: \", y_val.shape)\n",
    "\n",
    "x_test, y_test = data_preprocessing(Test2)\n",
    "print(\"x_test.shape: \", x_test.shape)\n",
    "print(\"y_test.shape: \", y_test.shape)"
   ]
  },
  {
   "cell_type": "markdown",
   "metadata": {},
   "source": [
    "# Competitive Coevolution"
   ]
  },
  {
   "cell_type": "code",
   "execution_count": 5,
   "metadata": {},
   "outputs": [],
   "source": [
    "class biomarkers_individual:\n",
    "    def __init__(self, lst):\n",
    "        self.chromosome = lst\n",
    "        self.internal_fitness = -1\n",
    "        self.external_fitness = -1\n",
    "\n",
    "    def get_internal_fitness():\n",
    "        return self.internal_fitness\n",
    "        \n",
    "class test_patients_individual:\n",
    "    def __init__(self, lst):\n",
    "        self.chromosome = lst\n",
    "        self.internal_fitness = -1\n",
    "        \n",
    "    def get_internal_fitness():\n",
    "        return self.internal_fitness"
   ]
  },
  {
   "cell_type": "code",
   "execution_count": 6,
   "metadata": {},
   "outputs": [],
   "source": [
    "def Access_Internal_Fitness_PQ(biomarkers_pop, test_patients_pop):\n",
    "    \n",
    "    k_fold = 5 # k-fold\n",
    "    \n",
    "    for i in range(len(biomarkers_pop)):\n",
    "\n",
    "        acc_sum = 0\n",
    "        for diagnosis_num in range(y_train.shape[0]):\n",
    "            clf = LogisticRegression(max_iter=400, tol=1, solver='saga').fit(x_train[:, biomarkers_pop[i].chromosome], y_train[diagnosis_num])\n",
    "\n",
    "            for k in range(k_fold):\n",
    "                test_patients = random.choice(test_patients_pop)\n",
    "                acc_sum += clf.score(x_val[test_patients.chromosome][:,biomarkers_pop[i].chromosome], y_val[diagnosis_num, test_patients.chromosome])\n",
    "        \n",
    "        biomarkers_pop[i].internal_fitness = acc_sum\n",
    "        "
   ]
  },
  {
   "cell_type": "code",
   "execution_count": 7,
   "metadata": {},
   "outputs": [],
   "source": [
    "def Access_Internal_Fitness_QP(test_patients_pop, biomarkers_pop):\n",
    "    \n",
    "    k_fold = 5 # k-fold\n",
    "    \n",
    "    for i in range(len(test_patients_pop)):\n",
    "        \n",
    "        acc_sum = 0\n",
    "        for k in range(k_fold):\n",
    "            biomarkers = random.choice(biomarkers_pop)\n",
    "            \n",
    "            for diagnosis_num in range(y_train.shape[0]):\n",
    "                clf = LogisticRegression(max_iter=400, tol=1, solver='saga').fit(x_train[:, biomarkers.chromosome], y_train[diagnosis_num])\n",
    "                acc_sum += clf.score(x_val[test_patients_pop[i].chromosome][:,biomarkers.chromosome], y_val[diagnosis_num, test_patients_pop[i].chromosome])\n",
    "            \n",
    "        test_patients_pop[i].internal_fitness = acc_sum\n",
    "        "
   ]
  },
  {
   "cell_type": "code",
   "execution_count": 8,
   "metadata": {},
   "outputs": [],
   "source": [
    "def Access_External_Fitness(biomarkers_pop):\n",
    "\n",
    "    for i in range(len(biomarkers_pop)):\n",
    "\n",
    "        acc_sum = 0\n",
    "        for j in range(y_train.shape[0]):\n",
    "            clf = LogisticRegression(max_iter=400, tol=1, solver='saga').fit(x_train[:, biomarkers_pop[i].chromosome], y_train[j])\n",
    "            acc_sum += clf.score(x_val[:, biomarkers_pop[i].chromosome], y_val[j])\n",
    "        \n",
    "        biomarkers_pop[i].external_fitness = acc_sum\n",
    "            "
   ]
  },
  {
   "cell_type": "code",
   "execution_count": 9,
   "metadata": {},
   "outputs": [],
   "source": [
    "def calculate_population_fitness(population, d_num):\n",
    "    fitness_list = []\n",
    "    for j in range(len(population)):\n",
    "        acc_sum = 0\n",
    "        clf = LogisticRegression(max_iter=400, tol=0.1, solver='saga').fit(x_train[:, population[j]], y_train[d_num])\n",
    "        acc_sum += clf.score(x_val[:, population[j]], y_val[d_num])\n",
    "        fitness_list.append(acc_sum)\n",
    "    return fitness_list"
   ]
  },
  {
   "cell_type": "code",
   "execution_count": 10,
   "metadata": {},
   "outputs": [],
   "source": [
    "# len(parentssss) == len(offspringsss)\n",
    "def breed_biomarkers(parentssss):\n",
    "    \n",
    "    offspringsss = []\n",
    "    chromosome_length = len(parentssss[0].chromosome)\n",
    "    \n",
    "    for i in range(int(len(parentssss) / 2)):\n",
    "        parent1 = random.choice(parentssss)\n",
    "        parent2 = random.choice(parentssss)\n",
    "\n",
    "        # uniform crossover\n",
    "        which_parent = np.random.uniform(size = chromosome_length)\n",
    "\n",
    "        offspring1 = np.zeros(chromosome_length, dtype=int)\n",
    "        offspring2 = np.zeros(chromosome_length, dtype=int)\n",
    "\n",
    "        for k in range(chromosome_length):\n",
    "            if which_parent[k] > 0.5:\n",
    "                offspring1[k] = parent1.chromosome[k]\n",
    "                offspring2[k] = parent2.chromosome[k]\n",
    "            else:\n",
    "                offspring1[k] = parent2.chromosome[k]\n",
    "                offspring2[k] = parent1.chromosome[k]\n",
    "        \n",
    "        offspringsss.append(biomarkers_individual(list(offspring1)))\n",
    "        offspringsss.append(biomarkers_individual(list(offspring2)))\n",
    "    \n",
    "    \n",
    "    return offspringsss"
   ]
  },
  {
   "cell_type": "code",
   "execution_count": 11,
   "metadata": {},
   "outputs": [],
   "source": [
    "# len(parentssss) == len(offspringsss)\n",
    "def breed_test_patients(parentssss):\n",
    "    \n",
    "    offspringsss = []\n",
    "    chromosome_length = len(parentssss[0].chromosome)\n",
    "    \n",
    "    for i in range(int(len(parentssss) / 2)):\n",
    "        parent1 = random.choice(parentssss)\n",
    "        parent2 = random.choice(parentssss)\n",
    "        \n",
    "        # uniform crossover\n",
    "        which_parent = np.random.uniform(size = chromosome_length)\n",
    "\n",
    "        offspring1 = np.zeros(chromosome_length, dtype=int)\n",
    "        offspring2 = np.zeros(chromosome_length, dtype=int)\n",
    "\n",
    "        for k in range(chromosome_length):\n",
    "            if which_parent[k] > 0.5:\n",
    "                offspring1[k] = parent1.chromosome[k]\n",
    "                offspring2[k] = parent2.chromosome[k]\n",
    "            else:\n",
    "                offspring1[k] = parent2.chromosome[k]\n",
    "                offspring2[k] = parent1.chromosome[k]\n",
    "                \n",
    "        offspringsss.append(test_patients_individual(list(offspring1)))\n",
    "        offspringsss.append(test_patients_individual(list(offspring2)))\n",
    "    \n",
    "    \n",
    "    return offspringsss"
   ]
  },
  {
   "cell_type": "code",
   "execution_count": 12,
   "metadata": {},
   "outputs": [
    {
     "name": "stdout",
     "output_type": "stream",
     "text": [
      "best.external_fitness: -1\n",
      "iteration: 0\n",
      "best.external_fitness: 4.501052631578948\n",
      "0th population average fitness: 4.363305263157897\n",
      "iteration: 1\n",
      "best.external_fitness: 4.528421052631579\n",
      "1th population average fitness: 4.38604210526316\n",
      "iteration: 2\n",
      "best.external_fitness: 4.543157894736842\n",
      "2th population average fitness: 4.404589473684211\n"
     ]
    }
   ],
   "source": [
    "pop_size = 100\n",
    "generation = 1001\n",
    "\n",
    "biomarkers_ell = 10\n",
    "test_patients_ell = 25\n",
    "\n",
    "pop_avg_fitness_lst = []\n",
    "\n",
    "# P <- Build Initial Population   (biomarkers)\n",
    "\n",
    "P = []\n",
    "for i in range(pop_size):\n",
    "    P.append(biomarkers_individual(np.random.choice(x_train.shape[0], biomarkers_ell, replace=False)))\n",
    "    \n",
    "\n",
    "# Q <- Build Initial Alternative Population   (best 25 test patients in Test1.xls.)\n",
    "Q = []\n",
    "for i in range(pop_size):\n",
    "    Q.append(test_patients_individual(np.random.choice(x_val.shape[0], test_patients_ell, replace=False)))\n",
    "\n",
    "\n",
    "# Best solution <- Empty Set   (biomarkers)\n",
    "best = biomarkers_individual([])\n",
    "\n",
    "\n",
    "# Access Internal Fitness(P, Q)\n",
    "Access_Internal_Fitness_PQ(P, Q)\n",
    "\n",
    "\n",
    "\n",
    "# Access Internal Fitness(Q, P)\n",
    "Access_Internal_Fitness_QP(Q, P)\n",
    "\n",
    "\n",
    "\n",
    "# Access External Fitness(P)\n",
    "Access_External_Fitness(P)\n",
    "\n",
    "\n",
    "print(f'best.external_fitness: {best.external_fitness}')\n",
    "\n",
    "# for each individual in P\n",
    "for i in range(pop_size):\n",
    "\n",
    "# do\n",
    "    # if (Best == Empty_Set) OR (External Fitness(P_i) > External Fitness(Best))\n",
    "    if P[i].external_fitness > best.external_fitness:\n",
    "        \n",
    "        # then Best = P_i\n",
    "        best.chromosome = P[i].chromosome.copy()\n",
    "        best.internal_fitness = P[i].internal_fitness\n",
    "        best.external_fitness = P[i].external_fitness\n",
    "    \n",
    "    \n",
    "# Repeat Untill Max Evaluation Reach\n",
    "for iteration in range(generation):\n",
    "    print(f'iteration: {iteration}')\n",
    "\n",
    "    # P' <- Join(P, Breed(P))\n",
    "    PPP = P + breed_biomarkers(P)\n",
    "    \n",
    "    # Q' <- Join(Q, Breed(Q))\n",
    "    QQQ = Q + breed_test_patients(Q)\n",
    "    \n",
    "    \n",
    "    # Access Internal Fitness(P', Q), do selection too !!\n",
    "    Access_Internal_Fitness_PQ(PPP, Q)\n",
    "\n",
    "\n",
    "    # do selection too !!\n",
    "    PPP.sort(key=lambda x: x.internal_fitness, reverse=True)\n",
    "\n",
    "    \n",
    "    PPP = PPP[:len(PPP)//2]\n",
    "\n",
    "    \n",
    "\n",
    "    # Access Internal Fitness(Q', P), do selection too !!\n",
    "    Access_Internal_Fitness_QP(QQQ, P)\n",
    "    \n",
    "\n",
    "    # do selection too !!\n",
    "    QQQ.sort(key=lambda x: x.internal_fitness, reverse=False)\n",
    "    \n",
    "    \n",
    "        \n",
    "    QQQ = QQQ[:len(QQQ)//2]\n",
    "    \n",
    "\n",
    "    # Access External Fitness(P')\n",
    "    Access_External_Fitness(PPP)\n",
    "    \n",
    "    \n",
    "    \n",
    "    # for each individual in P'\n",
    "    \n",
    "    print(f'best.external_fitness: {best.external_fitness}')\n",
    "    \n",
    "    summation = 0\n",
    "    for i in range(pop_size):\n",
    "\n",
    "        summation += PPP[i].external_fitness\n",
    "        \n",
    "    # do\n",
    "        # if ( External Fitness(P'_i) > External Fitness(Best) )\n",
    "        if PPP[i].external_fitness > best.external_fitness:\n",
    "\n",
    "            # then Best = P_i\n",
    "            best.chromosome = PPP[i].chromosome.copy()\n",
    "            best.internal_fitness = PPP[i].internal_fitness\n",
    "            best.external_fitness = PPP[i].external_fitness\n",
    "    \n",
    "    \n",
    "    print(f'{iteration}th population average fitness: {summation/pop_size}')\n",
    "    pop_avg_fitness_lst.append(summation/pop_size)\n",
    "    \n",
    "    # P <- P'\n",
    "    P = PPP\n",
    "    \n",
    "    # Q <- Q'\n",
    "    Q = QQQ\n",
    "    \n",
    "# \"best\" is the solution !!\n",
    "\n"
   ]
  },
  {
   "cell_type": "markdown",
   "metadata": {},
   "source": [
    "# print best chromosome, best acc, and predict test2.xls"
   ]
  },
  {
   "cell_type": "code",
   "execution_count": 14,
   "metadata": {},
   "outputs": [],
   "source": [
    "with open('./competitive_coevolution_pop_avg_fitness.txt', 'w') as f:\n",
    "    for i in pop_avg_fitness_lst:\n",
    "        f.write(\"%s\\n\" % i)\n",
    "\n",
    "    f.write(\"best chromosome: %s\\n\" % best.chromosome)\n",
    "    f.write(\"best fitness: %s\\n\" % best.external_fitness)\n",
    "        "
   ]
  },
  {
   "cell_type": "code",
   "execution_count": 12,
   "metadata": {},
   "outputs": [],
   "source": [
    "def two_ratio(num):\n",
    "    i = 1\n",
    "    k = 94\n",
    "    num = num - 95\n",
    "    while num > k:\n",
    "        \n",
    "        num = num - k\n",
    "        i += 1\n",
    "        k -= 1\n",
    "        \n",
    "    return i, num + i"
   ]
  },
  {
   "cell_type": "code",
   "execution_count": 13,
   "metadata": {
    "scrolled": true
   },
   "outputs": [
    {
     "name": "stdout",
     "output_type": "stream",
     "text": [
      "[2076, 3328, 2408, 4161, 3953, 1865, 2548, 2187, 3556, 1636]\n",
      "(25, 26)\n",
      "(45, 88)\n",
      "(29, 88)\n",
      "(67, 74)\n",
      "(60, 83)\n",
      "(22, 28)\n",
      "(32, 36)\n",
      "(26, 68)\n",
      "(50, 81)\n",
      "(19, 21)\n"
     ]
    }
   ],
   "source": [
    "best_biomarkers = open('./result/competitive_coevolution_pop_avg_fitness.txt', 'r').readlines()[-2][18:-2].split(',')\n",
    "best_biomarkers = list(map(int, best_biomarkers))\n",
    "print(best_biomarkers)\n",
    "\n",
    "for i in best_biomarkers:\n",
    "    print(two_ratio(i))"
   ]
  },
  {
   "cell_type": "code",
   "execution_count": 16,
   "metadata": {},
   "outputs": [],
   "source": [
    "def predict(chromosome, d_num):\n",
    "    clf = LogisticRegression(max_iter=400, tol=0.1, solver='saga').fit(x_train[:, chromosome], y_train[d_num])\n",
    "    return clf.predict(x_test[:, chromosome])"
   ]
  },
  {
   "cell_type": "code",
   "execution_count": 17,
   "metadata": {},
   "outputs": [],
   "source": [
    "y_test = []\n",
    "for i in range(5):\n",
    "    Test2[f'C0{i+1}'] = predict(best_biomarkers, i)\n",
    "    \n",
    "Test2.to_excel(\"./Midterm_Data/Test2_comp_result.xlsx\", index=False) "
   ]
  },
  {
   "cell_type": "code",
   "execution_count": null,
   "metadata": {},
   "outputs": [],
   "source": []
  }
 ],
 "metadata": {
  "kernelspec": {
   "display_name": "Python 3",
   "language": "python",
   "name": "python3"
  },
  "language_info": {
   "codemirror_mode": {
    "name": "ipython",
    "version": 3
   },
   "file_extension": ".py",
   "mimetype": "text/x-python",
   "name": "python",
   "nbconvert_exporter": "python",
   "pygments_lexer": "ipython3",
   "version": "3.7.4"
  }
 },
 "nbformat": 4,
 "nbformat_minor": 2
}
